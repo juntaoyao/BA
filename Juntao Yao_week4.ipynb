{
 "cells": [
  {
   "cell_type": "code",
   "execution_count": 1,
   "metadata": {},
   "outputs": [
    {
     "name": "stdout",
     "output_type": "stream",
     "text": [
      "hello world\n"
     ]
    }
   ],
   "source": [
    "#1.Q: How do you handle duplicate values in a dataset in Python?"
   ]
  },
  {
   "cell_type": "code",
   "execution_count": 5,
   "metadata": {
    "collapsed": true
   },
   "outputs": [],
   "source": [
    "#1.A: use function set()\n",
    "t= [1, 2, 3, 1, 2, 5, 6, 7, 8]"
   ]
  },
  {
   "cell_type": "code",
   "execution_count": 6,
   "metadata": {},
   "outputs": [
    {
     "data": {
      "text/plain": [
       "{1, 2, 3, 5, 6, 7, 8}"
      ]
     },
     "execution_count": 6,
     "metadata": {},
     "output_type": "execute_result"
    }
   ],
   "source": []
  },
  {
   "cell_type": "code",
   "execution_count": 15,
   "metadata": {
    "collapsed": true
   },
   "outputs": [],
   "source": [
    "colors = [\"red\", \"blue\", \"blue\", \"green\"]"
   ]
  },
  {
   "cell_type": "code",
   "execution_count": 16,
   "metadata": {},
   "outputs": [
    {
     "data": {
      "text/plain": [
       "{'blue', 'green', 'red'}"
      ]
     },
     "execution_count": 16,
     "metadata": {},
     "output_type": "execute_result"
    }
   ],
   "source": [
    "set(colors)"
   ]
  },
  {
   "cell_type": "code",
   "execution_count": 19,
   "metadata": {},
   "outputs": [
    {
     "name": "stdout",
     "output_type": "stream",
     "text": [
      "a + b\n",
      "[[ 1  4]\n",
      " [ 9 16]]\n"
     ]
    }
   ],
   "source": [
    "import numpy as np\n",
    "a = np.array([[1, 2], [3, 4]])\n",
    "b = np.array([[1, 2], [3, 4]])\n",
    "print \"a + b\"\n",
    "print a * b"
   ]
  },
  {
   "cell_type": "code",
   "execution_count": 21,
   "metadata": {},
   "outputs": [
    {
     "name": "stdout",
     "output_type": "stream",
     "text": [
      "[[ 7 10]\n",
      " [15 22]]\n"
     ]
    }
   ],
   "source": [
    "print np.dot(a, b)"
   ]
  },
  {
   "cell_type": "code",
   "execution_count": 22,
   "metadata": {
    "collapsed": true
   },
   "outputs": [],
   "source": [
    "#2.Q:You are given two tables - friend_request and request_accepted. \n",
    "#Friend_request contains requester_id, time and sent_to_id\n",
    "#request_accepted table contains time, acceptor_id and requestor_id. \n",
    "#How will you determine the overall acceptance rate of requests? "
   ]
  },
  {
   "cell_type": "markdown",
   "metadata": {},
   "source": [
    "#2 A: Using SQL\n",
    " count(a.acceptor_id)/ count(b.requester_id)\n",
    " from friend_request a\n",
    " left join request_accpeted b\n",
    " on a.requestor_id = b.requestor_id\n",
    " and a.sent_to_id = b.acceptor_id\n",
    " where date(a.time)< date_add(current_date(),'-7','day')"
   ]
  },
  {
   "cell_type": "code",
   "execution_count": 67,
   "metadata": {
    "collapsed": true
   },
   "outputs": [],
   "source": [
    "#using python\n",
    "import pandas as pd\n",
    "current_date = '5/24/2017'"
   ]
  },
  {
   "cell_type": "code",
   "execution_count": 46,
   "metadata": {
    "collapsed": true
   },
   "outputs": [],
   "source": [
    "friend_request= pd.DataFrame(\n",
    "    {\n",
    "        \"requestor_id\": [\"A\", \"B\", \"C\",\"A\",\"D\",\"F\"],\n",
    "        \"time\": [\"5/1/2017\", \"5/8/2017\", \"5/11/2017\",\"5/12/2017\",\"5/22/2017\",\"5/23/2017\"],\n",
    "        \"sent_to_id\": [\"C\", \"A\", \"B\",\"C\",\"E\",\"A\"]\n",
    "    },\n",
    "    columns = [\"requestor_id\", \"time\", \"sent_to_id\"]\n",
    ")"
   ]
  },
  {
   "cell_type": "code",
   "execution_count": 62,
   "metadata": {
    "collapsed": true
   },
   "outputs": [],
   "source": [
    "request_accepted = pd.DataFrame(\n",
    "    {\n",
    "        \"acceptorid\": [\"A\", \"B\", \"C\",\"E\"],\n",
    "        \"time\": [\"5/9/2017\", \"5/13/2017\", \"5/14/2017\",\"5/25/2017\"],\n",
    "        \"requestor_id\": [\"B\", \"C\", \"A\",\"D\"]\n",
    "    },\n",
    "    columns = [\"acceptorid\", \"time\", \"requestor_id\"]\n",
    ")"
   ]
  },
  {
   "cell_type": "code",
   "execution_count": 65,
   "metadata": {
    "collapsed": true
   },
   "outputs": [],
   "source": [
    "joined_table= pd.merge(friend_request,request_accepted,how = 'left',left_on=['requestor_id','sent_to_id'],right_on=['requestor_id','acceptorid'])"
   ]
  },
  {
   "cell_type": "code",
   "execution_count": 110,
   "metadata": {},
   "outputs": [
    {
     "name": "stdout",
     "output_type": "stream",
     "text": [
      "  requestor_id     time_x sent_to_id acceptorid     time_y    days\n",
      "0            A 2017-05-01          C          C 2017-05-14 13 days\n",
      "1            B 2017-05-08          A          A 2017-05-09  1 days\n",
      "2            C 2017-05-11          B          B 2017-05-13  2 days\n",
      "3            A 2017-05-12          C          C 2017-05-14  2 days\n",
      "4            D 2017-05-22          E          E 2017-05-25  3 days\n",
      "5            F 2017-05-23          A        NaN        NaT     NaT\n"
     ]
    }
   ],
   "source": [
    "print joined_table"
   ]
  },
  {
   "cell_type": "code",
   "execution_count": 111,
   "metadata": {
    "collapsed": true
   },
   "outputs": [],
   "source": [
    "joined_table['time_x'] =pd.to_datetime(joined_table['time_x'])\n",
    "joined_table['time_y'] =pd.to_datetime(joined_table['time_y'])"
   ]
  },
  {
   "cell_type": "code",
   "execution_count": 125,
   "metadata": {},
   "outputs": [
    {
     "data": {
      "text/html": [
       "<div>\n",
       "<style>\n",
       "    .dataframe thead tr:only-child th {\n",
       "        text-align: right;\n",
       "    }\n",
       "\n",
       "    .dataframe thead th {\n",
       "        text-align: left;\n",
       "    }\n",
       "\n",
       "    .dataframe tbody tr th {\n",
       "        vertical-align: top;\n",
       "    }\n",
       "</style>\n",
       "<table border=\"1\" class=\"dataframe\">\n",
       "  <thead>\n",
       "    <tr style=\"text-align: right;\">\n",
       "      <th></th>\n",
       "      <th>requestor_id</th>\n",
       "      <th>time_x</th>\n",
       "      <th>sent_to_id</th>\n",
       "      <th>acceptorid</th>\n",
       "      <th>time_y</th>\n",
       "      <th>days</th>\n",
       "    </tr>\n",
       "  </thead>\n",
       "  <tbody>\n",
       "    <tr>\n",
       "      <th>0</th>\n",
       "      <td>A</td>\n",
       "      <td>2017-05-01</td>\n",
       "      <td>C</td>\n",
       "      <td>C</td>\n",
       "      <td>2017-05-14</td>\n",
       "      <td>13.0</td>\n",
       "    </tr>\n",
       "    <tr>\n",
       "      <th>1</th>\n",
       "      <td>B</td>\n",
       "      <td>2017-05-08</td>\n",
       "      <td>A</td>\n",
       "      <td>A</td>\n",
       "      <td>2017-05-09</td>\n",
       "      <td>1.0</td>\n",
       "    </tr>\n",
       "    <tr>\n",
       "      <th>2</th>\n",
       "      <td>C</td>\n",
       "      <td>2017-05-11</td>\n",
       "      <td>B</td>\n",
       "      <td>B</td>\n",
       "      <td>2017-05-13</td>\n",
       "      <td>2.0</td>\n",
       "    </tr>\n",
       "    <tr>\n",
       "      <th>3</th>\n",
       "      <td>A</td>\n",
       "      <td>2017-05-12</td>\n",
       "      <td>C</td>\n",
       "      <td>C</td>\n",
       "      <td>2017-05-14</td>\n",
       "      <td>2.0</td>\n",
       "    </tr>\n",
       "    <tr>\n",
       "      <th>4</th>\n",
       "      <td>D</td>\n",
       "      <td>2017-05-22</td>\n",
       "      <td>E</td>\n",
       "      <td>E</td>\n",
       "      <td>2017-05-25</td>\n",
       "      <td>3.0</td>\n",
       "    </tr>\n",
       "    <tr>\n",
       "      <th>5</th>\n",
       "      <td>F</td>\n",
       "      <td>2017-05-23</td>\n",
       "      <td>A</td>\n",
       "      <td>NaN</td>\n",
       "      <td>NaT</td>\n",
       "      <td>NaN</td>\n",
       "    </tr>\n",
       "  </tbody>\n",
       "</table>\n",
       "</div>"
      ],
      "text/plain": [
       "  requestor_id     time_x sent_to_id acceptorid     time_y  days\n",
       "0            A 2017-05-01          C          C 2017-05-14  13.0\n",
       "1            B 2017-05-08          A          A 2017-05-09   1.0\n",
       "2            C 2017-05-11          B          B 2017-05-13   2.0\n",
       "3            A 2017-05-12          C          C 2017-05-14   2.0\n",
       "4            D 2017-05-22          E          E 2017-05-25   3.0\n",
       "5            F 2017-05-23          A        NaN        NaT   NaN"
      ]
     },
     "execution_count": 125,
     "metadata": {},
     "output_type": "execute_result"
    }
   ],
   "source": [
    "joined_table['days']= joined_table.time_y-joined_table.time_x\n",
    "\n",
    "joined_table['days']= joined_table['days'].astype('timedelta64[D]')\n",
    "joined_table.head(6)"
   ]
  },
  {
   "cell_type": "code",
   "execution_count": 132,
   "metadata": {
    "collapsed": true
   },
   "outputs": [],
   "source": [
    "filter1 = joined_table[joined_table['days']<7]"
   ]
  },
  {
   "cell_type": "code",
   "execution_count": 138,
   "metadata": {
    "collapsed": true
   },
   "outputs": [],
   "source": [
    "null = joined_table[joined_table['days'].isnull()]"
   ]
  },
  {
   "cell_type": "code",
   "execution_count": 142,
   "metadata": {},
   "outputs": [
    {
     "name": "stdout",
     "output_type": "stream",
     "text": [
      "  requestor_id     time_x sent_to_id acceptorid     time_y  days\n",
      "1            B 2017-05-08          A          A 2017-05-09   1.0\n",
      "2            C 2017-05-11          B          B 2017-05-13   2.0\n",
      "3            A 2017-05-12          C          C 2017-05-14   2.0\n",
      "4            D 2017-05-22          E          E 2017-05-25   3.0\n",
      "5            F 2017-05-23          A        NaN        NaT   NaN\n"
     ]
    }
   ],
   "source": [
    "filter_table = pd.concat([filter1,null])\n",
    "print filter_table"
   ]
  },
  {
   "cell_type": "code",
   "execution_count": 155,
   "metadata": {},
   "outputs": [
    {
     "name": "stdout",
     "output_type": "stream",
     "text": [
      "4\n",
      "5.0\n",
      "0.8\n"
     ]
    }
   ],
   "source": [
    "acceptance_count = filter_table[\"acceptorid\"].count()\n",
    "request_count = float(filter_table[\"requestor_id\"].count())\n",
    "print acceptance_count\n",
    "print request_count\n",
    "acceptance_rate = float(acceptance_count / request_count)\n",
    "print acceptance_rate"
   ]
  },
  {
   "cell_type": "markdown",
   "metadata": {},
   "source": [
    "#3 Q: Do some research and summarize the business model of your dream company, \n",
    "or company that you interview with.\n",
    "What is the product\n",
    "Who are the customer\n",
    "How do they make money\n",
    "Why do you want to work for this company?\n",
    "(Optional) If you were CEO, what would you do to increase company’s revenue in the next 5 years?\n"
   ]
  },
  {
   "cell_type": "markdown",
   "metadata": {},
   "source": [
    "#3 A: LinkedIn is a business- and employment-oriented social networking service that operates via websites and mobile apps.\n",
    "-What is the product  \n",
    "1.Premium subscriptions- no limited features like, inmail credits, no limition to \"filtered search\" options, \"you may also know\" credits or \"3rd level contact\" information views or \"who viewed your profiles\"\n",
    "2.recruiter solutions - positing jobs/finding candidates\n",
    "3.corporate solutions - advertising solutions: boost/sponsored post(with a follow buttion),contextual ads/top menu bar ads\n",
    "4.learning solution - slideshare and lynda learning courses and content\n",
    "5.publishing platform - pulse\n",
    "\n",
    "-Who are the customer\n",
    "LinkedIn has 3 customer segments. \n",
    "1.The most obvious one are all the internet users who go to the site and create a profile on it. \n",
    "2.there are the recruiters who are looking for talent, \n",
    "3.advertisers who are looking to reach either a wealthy B2C audience or senior B2B decision makers.\n",
    "\n",
    "-How do they make money \n",
    "1.premium subscriptions \n",
    "2.marketing solutsion\n",
    "3.talent solutions (hiring and learning and development)\n",
    "\n",
    "\n",
    "-Why do you want to work for this company? \n",
    "It is the largest professinoal social networking which brings the need for any professionals to connect with and contains tremendous interesting data to study. I am data-driven person and love to work for it to see what is behind the scenes.\n"
   ]
  },
  {
   "cell_type": "code",
   "execution_count": 156,
   "metadata": {
    "collapsed": true
   },
   "outputs": [],
   "source": [
    "import scipy"
   ]
  },
  {
   "cell_type": "code",
   "execution_count": 159,
   "metadata": {},
   "outputs": [
    {
     "data": {
      "text/html": [
       "<div>\n",
       "<style>\n",
       "    .dataframe thead tr:only-child th {\n",
       "        text-align: right;\n",
       "    }\n",
       "\n",
       "    .dataframe thead th {\n",
       "        text-align: left;\n",
       "    }\n",
       "\n",
       "    .dataframe tbody tr th {\n",
       "        vertical-align: top;\n",
       "    }\n",
       "</style>\n",
       "<table border=\"1\" class=\"dataframe\">\n",
       "  <thead>\n",
       "    <tr style=\"text-align: right;\">\n",
       "      <th></th>\n",
       "      <th>country</th>\n",
       "      <th>date</th>\n",
       "      <th>experiment_id</th>\n",
       "      <th>order_id</th>\n",
       "      <th>spend_usd</th>\n",
       "      <th>user_id</th>\n",
       "      <th>vertical</th>\n",
       "    </tr>\n",
       "  </thead>\n",
       "  <tbody>\n",
       "    <tr>\n",
       "      <th>0</th>\n",
       "      <td>JP</td>\n",
       "      <td>20170402</td>\n",
       "      <td>12624548</td>\n",
       "      <td>5813140433216629693</td>\n",
       "      <td>16.138855</td>\n",
       "      <td>5006730028073359543</td>\n",
       "      <td>ANDROID_APPS</td>\n",
       "    </tr>\n",
       "    <tr>\n",
       "      <th>1</th>\n",
       "      <td>US</td>\n",
       "      <td>20170403</td>\n",
       "      <td>12624549</td>\n",
       "      <td>16333056276711034931</td>\n",
       "      <td>9.990000</td>\n",
       "      <td>5938685669571545259</td>\n",
       "      <td>ANDROID_APPS</td>\n",
       "    </tr>\n",
       "    <tr>\n",
       "      <th>2</th>\n",
       "      <td>JP</td>\n",
       "      <td>20170404</td>\n",
       "      <td>12624548</td>\n",
       "      <td>11227119161741298366</td>\n",
       "      <td>19.887087</td>\n",
       "      <td>17623708458399141713</td>\n",
       "      <td>ANDROID_APPS</td>\n",
       "    </tr>\n",
       "    <tr>\n",
       "      <th>3</th>\n",
       "      <td>US</td>\n",
       "      <td>20170403</td>\n",
       "      <td>12624548</td>\n",
       "      <td>11927299833124210932</td>\n",
       "      <td>19.990000</td>\n",
       "      <td>18042812344456618148</td>\n",
       "      <td>ANDROID_APPS</td>\n",
       "    </tr>\n",
       "    <tr>\n",
       "      <th>4</th>\n",
       "      <td>JP</td>\n",
       "      <td>20170403</td>\n",
       "      <td>12624549</td>\n",
       "      <td>11644727017708872749</td>\n",
       "      <td>88.220093</td>\n",
       "      <td>4325104700699531031</td>\n",
       "      <td>ANDROID_APPS</td>\n",
       "    </tr>\n",
       "  </tbody>\n",
       "</table>\n",
       "</div>"
      ],
      "text/plain": [
       "  country      date  experiment_id              order_id  spend_usd  \\\n",
       "0      JP  20170402       12624548   5813140433216629693  16.138855   \n",
       "1      US  20170403       12624549  16333056276711034931   9.990000   \n",
       "2      JP  20170404       12624548  11227119161741298366  19.887087   \n",
       "3      US  20170403       12624548  11927299833124210932  19.990000   \n",
       "4      JP  20170403       12624549  11644727017708872749  88.220093   \n",
       "\n",
       "                user_id      vertical  \n",
       "0   5006730028073359543  ANDROID_APPS  \n",
       "1   5938685669571545259  ANDROID_APPS  \n",
       "2  17623708458399141713  ANDROID_APPS  \n",
       "3  18042812344456618148  ANDROID_APPS  \n",
       "4   4325104700699531031  ANDROID_APPS  "
      ]
     },
     "execution_count": 159,
     "metadata": {},
     "output_type": "execute_result"
    }
   ],
   "source": [
    "#4 PrintCumulativetimeserios\n",
    "#read data\n",
    "file_location = \"/Users/halopanda/Documents/BA/Course/Week 4 Python/\"\n",
    "file_name = \"BA501_python_data.csv\"\n",
    "my_data = pd.read_csv(file_location + file_name)\n",
    "\n",
    "my_data.head(5)"
   ]
  },
  {
   "cell_type": "code",
   "execution_count": 203,
   "metadata": {
    "collapsed": true
   },
   "outputs": [],
   "source": [
    "%matplotlib inline\n",
    "import matplotlib.pyplot as plt\n",
    "import datetime"
   ]
  },
  {
   "cell_type": "code",
   "execution_count": 204,
   "metadata": {
    "collapsed": true
   },
   "outputs": [],
   "source": [
    "np.unique(my_data[\"experiment_id\"])\n",
    "red_button = np.unique(my_data[\"experiment_id\"])[0]\n",
    "blue_button = np.unique(my_data[\"experiment_id\"])[1]"
   ]
  },
  {
   "cell_type": "code",
   "execution_count": 221,
   "metadata": {
    "collapsed": true
   },
   "outputs": [],
   "source": [
    "my_data.date = pd.to_datetime(my_data.date, format='%Y%m%d')\n",
    "# subset the data\n",
    "red_button_data = my_data[['date','spend_usd']][my_data.experiment_id == red_button]\n",
    "blue_button_data = my_data[['date','spend_usd']][my_data.experiment_id == blue_button]"
   ]
  },
  {
   "cell_type": "code",
   "execution_count": 222,
   "metadata": {},
   "outputs": [],
   "source": [
    "red_ts = red_button_data.groupby('date')['spend_usd'].sum()\n",
    "\n",
    "red_ts_cum= red_ts.cumsum()\n",
    "blue_ts = blue_button_data.groupby('date')['spend_usd'].sum()\n",
    "blue_ts_cum =blue_ts.cumsum()"
   ]
  },
  {
   "cell_type": "code",
   "execution_count": 223,
   "metadata": {},
   "outputs": [
    {
     "data": {
      "image/png": "[encoded data removed]",
      "text/plain": [
       "<matplotlib.figure.Figure at 0x119e4ebd0>"
      ]
     },
     "metadata": {},
     "output_type": "display_data"
    }
   ],
   "source": [
    "fig,ax = plt.subplots()\n",
    "ax.plot(red_ts_cum, color=\"red\", label=\"red\")\n",
    "ax.plot(blue_ts_cum, color=\"blue\", label =\"blue\")\n",
    "\n",
    "# some tweaks\n",
    "#ax.set_ylim(0,100000)\n",
    "ax.set_title(\"Red vs. Blue\")\n",
    "ax.set_ylabel(\"Total spend\")\n",
    "ax.grid(True, which=\"both\")\n",
    "# change legend\n",
    "ax.legend().get_texts()[0].set_text(\"Red\")\n",
    "ax.legend().get_texts()[1].set_text(\"Blue\")\n",
    "# format date\n",
    "plt.gcf().autofmt_xdate()"
   ]
  },
  {
   "cell_type": "code",
   "execution_count": null,
   "metadata": {},
   "outputs": [],
   "source": []
  },
  {
   "cell_type": "code",
   "execution_count": null,
   "metadata": {},
   "outputs": [],
   "source": []
  },
  {
   "cell_type": "code",
   "execution_count": null,
   "metadata": {
    "collapsed": true
   },
   "outputs": [],
   "source": []
  }
 ],
 "metadata": {
  "kernelspec": {
   "display_name": "Python 2",
   "language": "python",
   "name": "python2"
  },
  "language_info": {
   "codemirror_mode": {
    "name": "ipython",
    "version": 2
   },
   "file_extension": ".py",
   "mimetype": "text/x-python",
   "name": "python",
   "nbconvert_exporter": "python",
   "pygments_lexer": "ipython2",
   "version": "2.7.13"
  }
 },
 "nbformat": 4,
 "nbformat_minor": 2
}
